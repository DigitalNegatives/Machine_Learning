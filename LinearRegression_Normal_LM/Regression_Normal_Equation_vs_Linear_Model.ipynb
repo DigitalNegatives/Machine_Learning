{
 "cells": [
  {
   "cell_type": "markdown",
   "metadata": {},
   "source": [
    "This is a basic example of fitting a linear regression using two methods. The first method will use the Normal Equation and the second method will use sklearn linear_model. \n",
    "\n",
    "The data that will be used for this exercise is automobile information. The data is available from UCI's repository, which can be found at the following link.\n",
    "https://archive.ics.uci.edu/ml/machine-learning-databases/auto-mpg/\n",
    "\n",
    "This data set contains 9 columns. The file was prepared to include the headers in the data file for easier loading of the data."
   ]
  },
  {
   "cell_type": "code",
   "execution_count": 1,
   "metadata": {},
   "outputs": [],
   "source": [
    "import pandas as pd\n",
    "import numpy as np\n",
    "from sklearn import linear_model\n",
    "from matplotlib import pyplot as plt\n",
    "%matplotlib inline"
   ]
  },
  {
   "cell_type": "code",
   "execution_count": 2,
   "metadata": {},
   "outputs": [
    {
     "data": {
      "text/html": [
       "<div>\n",
       "<style scoped>\n",
       "    .dataframe tbody tr th:only-of-type {\n",
       "        vertical-align: middle;\n",
       "    }\n",
       "\n",
       "    .dataframe tbody tr th {\n",
       "        vertical-align: top;\n",
       "    }\n",
       "\n",
       "    .dataframe thead th {\n",
       "        text-align: right;\n",
       "    }\n",
       "</style>\n",
       "<table border=\"1\" class=\"dataframe\">\n",
       "  <thead>\n",
       "    <tr style=\"text-align: right;\">\n",
       "      <th></th>\n",
       "      <th>mpg</th>\n",
       "      <th>cyl</th>\n",
       "      <th>disp</th>\n",
       "      <th>hpower</th>\n",
       "      <th>weight</th>\n",
       "      <th>acc</th>\n",
       "      <th>year</th>\n",
       "      <th>origin</th>\n",
       "      <th>name</th>\n",
       "    </tr>\n",
       "  </thead>\n",
       "  <tbody>\n",
       "    <tr>\n",
       "      <th>0</th>\n",
       "      <td>18.0</td>\n",
       "      <td>8</td>\n",
       "      <td>307.0</td>\n",
       "      <td>130</td>\n",
       "      <td>3504</td>\n",
       "      <td>12.0</td>\n",
       "      <td>70</td>\n",
       "      <td>1</td>\n",
       "      <td>chevrolet chevelle malibu</td>\n",
       "    </tr>\n",
       "    <tr>\n",
       "      <th>1</th>\n",
       "      <td>15.0</td>\n",
       "      <td>8</td>\n",
       "      <td>350.0</td>\n",
       "      <td>165</td>\n",
       "      <td>3693</td>\n",
       "      <td>11.5</td>\n",
       "      <td>70</td>\n",
       "      <td>1</td>\n",
       "      <td>buick skylark 320</td>\n",
       "    </tr>\n",
       "    <tr>\n",
       "      <th>2</th>\n",
       "      <td>18.0</td>\n",
       "      <td>8</td>\n",
       "      <td>318.0</td>\n",
       "      <td>150</td>\n",
       "      <td>3436</td>\n",
       "      <td>11.0</td>\n",
       "      <td>70</td>\n",
       "      <td>1</td>\n",
       "      <td>plymouth satellite</td>\n",
       "    </tr>\n",
       "    <tr>\n",
       "      <th>3</th>\n",
       "      <td>16.0</td>\n",
       "      <td>8</td>\n",
       "      <td>304.0</td>\n",
       "      <td>150</td>\n",
       "      <td>3433</td>\n",
       "      <td>12.0</td>\n",
       "      <td>70</td>\n",
       "      <td>1</td>\n",
       "      <td>amc rebel sst</td>\n",
       "    </tr>\n",
       "    <tr>\n",
       "      <th>4</th>\n",
       "      <td>17.0</td>\n",
       "      <td>8</td>\n",
       "      <td>302.0</td>\n",
       "      <td>140</td>\n",
       "      <td>3449</td>\n",
       "      <td>10.5</td>\n",
       "      <td>70</td>\n",
       "      <td>1</td>\n",
       "      <td>ford torino</td>\n",
       "    </tr>\n",
       "  </tbody>\n",
       "</table>\n",
       "</div>"
      ],
      "text/plain": [
       "    mpg  cyl   disp hpower  weight   acc  year  origin  \\\n",
       "0  18.0    8  307.0    130    3504  12.0    70       1   \n",
       "1  15.0    8  350.0    165    3693  11.5    70       1   \n",
       "2  18.0    8  318.0    150    3436  11.0    70       1   \n",
       "3  16.0    8  304.0    150    3433  12.0    70       1   \n",
       "4  17.0    8  302.0    140    3449  10.5    70       1   \n",
       "\n",
       "                        name  \n",
       "0  chevrolet chevelle malibu  \n",
       "1          buick skylark 320  \n",
       "2         plymouth satellite  \n",
       "3              amc rebel sst  \n",
       "4                ford torino  "
      ]
     },
     "execution_count": 2,
     "metadata": {},
     "output_type": "execute_result"
    }
   ],
   "source": [
    "df_cars = pd.read_csv('automobile.csv')\n",
    "df_cars.head()"
   ]
  },
  {
   "cell_type": "code",
   "execution_count": 3,
   "metadata": {},
   "outputs": [
    {
     "data": {
      "text/plain": [
       "(398, 9)"
      ]
     },
     "execution_count": 3,
     "metadata": {},
     "output_type": "execute_result"
    }
   ],
   "source": [
    "df_cars.shape"
   ]
  },
  {
   "cell_type": "markdown",
   "metadata": {},
   "source": [
    "As can be seen the columns selected are mpg, cylinder count, displacement, horse power, weight, acceleration, year, country origin, and name. The data size is 398 cars."
   ]
  },
  {
   "cell_type": "code",
   "execution_count": 4,
   "metadata": {},
   "outputs": [
    {
     "data": {
      "text/plain": [
       "(70, 82)"
      ]
     },
     "execution_count": 4,
     "metadata": {},
     "output_type": "execute_result"
    }
   ],
   "source": [
    "df_cars.year.min(), df_cars.year.max()"
   ]
  },
  {
   "cell_type": "markdown",
   "metadata": {},
   "source": [
    "A check of the oldest and newest car shows that this data is for cars from the 70s and early 80s.\n",
    "\n",
    "The goal of this exercise is to fit a linear model to determine the mpg based on the weight of the car.\n",
    "\n",
    "The first step is visualize the data."
   ]
  },
  {
   "cell_type": "code",
   "execution_count": 5,
   "metadata": {},
   "outputs": [
    {
     "data": {
      "text/plain": [
       "<matplotlib.collections.PathCollection at 0x11298e128>"
      ]
     },
     "execution_count": 5,
     "metadata": {},
     "output_type": "execute_result"
    },
    {
     "data": {
      "image/png": "[encoded data removed]",
      "text/plain": [
       "<Figure size 432x288 with 1 Axes>"
      ]
     },
     "metadata": {},
     "output_type": "display_data"
    }
   ],
   "source": [
    "plt.xlabel('x weight')\n",
    "plt.ylabel('y mpg')\n",
    "plt.scatter(df_cars.weight, df_cars.mpg, alpha=.7)"
   ]
  },
  {
   "cell_type": "markdown",
   "metadata": {},
   "source": [
    "The plot clearly shows that the heavier the car the worse the gas mileage is."
   ]
  },
  {
   "cell_type": "markdown",
   "metadata": {},
   "source": [
    "The regression will be determined using two separate methods to see how they compare. The first method will use the Normal equation and the second method is using the scikit-learn's linear model.\n",
    "\n",
    "First though the data has to be formatted in a manner that will make it easy to use for both methods."
   ]
  },
  {
   "cell_type": "markdown",
   "metadata": {},
   "source": [
    "### Data Preperation"
   ]
  },
  {
   "cell_type": "code",
   "execution_count": 6,
   "metadata": {},
   "outputs": [
    {
     "data": {
      "text/plain": [
       "array([[1.000e+00, 3.504e+03],\n",
       "       [1.000e+00, 3.693e+03],\n",
       "       [1.000e+00, 3.436e+03],\n",
       "       [1.000e+00, 3.433e+03],\n",
       "       [1.000e+00, 3.449e+03]])"
      ]
     },
     "metadata": {},
     "output_type": "display_data"
    },
    {
     "data": {
      "text/plain": [
       "(398,)"
      ]
     },
     "metadata": {},
     "output_type": "display_data"
    },
    {
     "data": {
      "text/plain": [
       "0    18.0\n",
       "1    15.0\n",
       "2    18.0\n",
       "3    16.0\n",
       "4    17.0\n",
       "Name: mpg, dtype: float64"
      ]
     },
     "metadata": {},
     "output_type": "display_data"
    }
   ],
   "source": [
    "x_minmax = np.array([df_cars.weight.min(), df_cars.weight.max()])\n",
    "x_minmax\n",
    "\n",
    "X = df_cars.weight\n",
    "\n",
    "X_b = np.c_[np.ones((X.size,1)), X]\n",
    "display(X_b[:5])\n",
    "\n",
    "y = df_cars.mpg\n",
    "display(y.shape)\n",
    "display(y[:5])"
   ]
  },
  {
   "cell_type": "markdown",
   "metadata": {},
   "source": [
    "### Normal Equation"
   ]
  },
  {
   "cell_type": "markdown",
   "metadata": {},
   "source": [
    "$\\theta=(X^TX)^{-1}X^Ty$"
   ]
  },
  {
   "cell_type": "code",
   "execution_count": 7,
   "metadata": {},
   "outputs": [
    {
     "data": {
      "text/plain": [
       "array([ 4.63173644e+01, -7.67661006e-03])"
      ]
     },
     "execution_count": 7,
     "metadata": {},
     "output_type": "execute_result"
    }
   ],
   "source": [
    "np.linalg.inv(X_b.T.dot(X_b)).dot(X_b.T).dot(y)"
   ]
  },
  {
   "cell_type": "code",
   "execution_count": 8,
   "metadata": {},
   "outputs": [
    {
     "name": "stdout",
     "output_type": "stream",
     "text": [
      "intercept: 46.31736442026565\n",
      "coef (theta): -0.007676610063926458\n"
     ]
    }
   ],
   "source": [
    "theta_best = np.linalg.inv(X_b.T.dot(X_b)).dot(X_b.T).dot(y)\n",
    "intercept = theta_best[0]\n",
    "coef = theta_best[1]\n",
    "print('intercept:', intercept)\n",
    "print('coef (theta):', coef)"
   ]
  },
  {
   "cell_type": "markdown",
   "metadata": {},
   "source": [
    "$y = 46.317+-0.008*X$  \n",
    "Where y is mpg and X is the weights of all the cars"
   ]
  },
  {
   "cell_type": "code",
   "execution_count": 9,
   "metadata": {},
   "outputs": [
    {
     "data": {
      "image/png": "[encoded data removed]",
      "text/plain": [
       "<Figure size 432x288 with 1 Axes>"
      ]
     },
     "metadata": {},
     "output_type": "display_data"
    }
   ],
   "source": [
    "plt.scatter(X, y, alpha=0.7)\n",
    "plt.plot(x_minmax, x_minmax*coef + intercept, c='r');"
   ]
  },
  {
   "cell_type": "markdown",
   "metadata": {},
   "source": [
    "The red line depicts the model"
   ]
  },
  {
   "cell_type": "markdown",
   "metadata": {},
   "source": [
    "### Linear Model"
   ]
  },
  {
   "cell_type": "code",
   "execution_count": 10,
   "metadata": {},
   "outputs": [],
   "source": [
    "lm = linear_model.LinearRegression()"
   ]
  },
  {
   "cell_type": "code",
   "execution_count": 11,
   "metadata": {},
   "outputs": [
    {
     "name": "stdout",
     "output_type": "stream",
     "text": [
      "inetercept:  46.31736442026564\n",
      "coefficient: [-0.00767661]\n",
      "R^2: 0.6917929800341575\n"
     ]
    }
   ],
   "source": [
    "lm.fit(X.values.reshape(-1,1), y)\n",
    "\n",
    "print('inetercept: ',lm.intercept_)\n",
    "print('coefficient:', lm.coef_)\n",
    "print('R^2:', lm.score(X.values.reshape(-1,1), y))"
   ]
  },
  {
   "cell_type": "markdown",
   "metadata": {},
   "source": [
    "The results using the linear regression model produces the same values as the normal equation.\n",
    "\n",
    "The R^2, which explains how much of the independent variable (X) explains the model, shows roughly 0.69 where the a perfect fit would be 1.0"
   ]
  },
  {
   "cell_type": "markdown",
   "metadata": {},
   "source": [
    "### Multivariate Linear Regression"
   ]
  },
  {
   "cell_type": "markdown",
   "metadata": {},
   "source": [
    "By adding additional variables can the R^2 value be increased? There are techniques to identify which variables are most relevant when conducting a multivariate regression but for this exercise variables were randomly chosen to add."
   ]
  },
  {
   "cell_type": "markdown",
   "metadata": {},
   "source": [
    "### Two indepedent variables"
   ]
  },
  {
   "cell_type": "markdown",
   "metadata": {},
   "source": [
    "#### Normal Equation"
   ]
  },
  {
   "cell_type": "code",
   "execution_count": 12,
   "metadata": {},
   "outputs": [
    {
     "data": {
      "text/plain": [
       "(398, 2)"
      ]
     },
     "execution_count": 12,
     "metadata": {},
     "output_type": "execute_result"
    }
   ],
   "source": [
    "X2 = df_cars[['weight', 'cyl']]\n",
    "X2.shape"
   ]
  },
  {
   "cell_type": "code",
   "execution_count": 13,
   "metadata": {},
   "outputs": [
    {
     "data": {
      "text/plain": [
       "array([ 4.63937024e+01, -6.41225055e-03, -7.02508051e-01])"
      ]
     },
     "execution_count": 13,
     "metadata": {},
     "output_type": "execute_result"
    }
   ],
   "source": [
    "X2_b = np.c_[np.ones((X2.shape[0], 1)), X2]\n",
    "np.linalg.inv(X2_b.T.dot(X2_b)).dot(X2_b.T).dot(y)"
   ]
  },
  {
   "cell_type": "markdown",
   "metadata": {},
   "source": [
    "#### Linear Model"
   ]
  },
  {
   "cell_type": "code",
   "execution_count": 14,
   "metadata": {},
   "outputs": [
    {
     "name": "stdout",
     "output_type": "stream",
     "text": [
      "intercept: 46.393702353374096\n",
      "coef: [-0.00641225 -0.70250805]\n",
      "R^2: 0.6964013933838316\n"
     ]
    }
   ],
   "source": [
    "lm2 = linear_model.LinearRegression()\n",
    "lm2.fit(X2.values.reshape(-1,2), y)\n",
    "print('intercept:', lm2.intercept_)\n",
    "print('coef:', lm2.coef_)\n",
    "print('R^2:', lm2.score(X2.values.reshape(-1,2), y))"
   ]
  },
  {
   "cell_type": "markdown",
   "metadata": {},
   "source": [
    "The coefficients and intercept are the same for both the normal and linear equation. The R^2 increased slightly from 0.69 to 0.70."
   ]
  },
  {
   "cell_type": "markdown",
   "metadata": {},
   "source": [
    "### 4 indepedent variables"
   ]
  },
  {
   "cell_type": "markdown",
   "metadata": {},
   "source": [
    "Next the independent variables were included to 4."
   ]
  },
  {
   "cell_type": "code",
   "execution_count": 15,
   "metadata": {},
   "outputs": [
    {
     "data": {
      "text/plain": [
       "(398, 4)"
      ]
     },
     "execution_count": 15,
     "metadata": {},
     "output_type": "execute_result"
    }
   ],
   "source": [
    "X4 = df_cars[['weight', 'cyl', 'disp','acc']]\n",
    "X4.shape"
   ]
  },
  {
   "cell_type": "code",
   "execution_count": 16,
   "metadata": {},
   "outputs": [
    {
     "data": {
      "text/plain": [
       "array([ 4.18609752e+01, -6.15502231e-03, -2.59222871e-01, -7.11292284e-03,\n",
       "        1.75130855e-01])"
      ]
     },
     "execution_count": 16,
     "metadata": {},
     "output_type": "execute_result"
    }
   ],
   "source": [
    "X4_b = np.c_[np.ones((X4.shape[0], 1)), X4]\n",
    "np.linalg.inv(X4_b.T.dot(X4_b)).dot(X4_b.T).dot(y)"
   ]
  },
  {
   "cell_type": "code",
   "execution_count": 17,
   "metadata": {},
   "outputs": [
    {
     "name": "stdout",
     "output_type": "stream",
     "text": [
      "intercept: 41.860975201822946\n",
      "coef: [-0.00615502 -0.25922287 -0.00711292  0.17513085]\n",
      "R^2: 0.7006973903323617\n"
     ]
    }
   ],
   "source": [
    "lm4 = linear_model.LinearRegression()\n",
    "lm4.fit(X4.values.reshape(-1,4), y)\n",
    "print('intercept:', lm4.intercept_)\n",
    "print('coef:', lm4.coef_)\n",
    "print('R^2:', lm4.score(X4.values.reshape(-1,4), y))"
   ]
  },
  {
   "cell_type": "markdown",
   "metadata": {},
   "source": [
    "The coefficients and the intercept again are identical for the normal equation and the linear equation. The R^2 did remained the same at 0.70 when using four independent variables. Of course the results may be different if other variables were used. \n",
    "\n",
    "In this, case the since the difference between a single independent variable and four independent variables is extremely small, it would be simpler to use the model with a single independent variable. It is easier to understand and explain as well as easier on computing resources."
   ]
  }
 ],
 "metadata": {
  "kernelspec": {
   "display_name": "Python 3",
   "language": "python",
   "name": "python3"
  },
  "language_info": {
   "codemirror_mode": {
    "name": "ipython",
    "version": 3
   },
   "file_extension": ".py",
   "mimetype": "text/x-python",
   "name": "python",
   "nbconvert_exporter": "python",
   "pygments_lexer": "ipython3",
   "version": "3.6.4"
  }
 },
 "nbformat": 4,
 "nbformat_minor": 2
}
